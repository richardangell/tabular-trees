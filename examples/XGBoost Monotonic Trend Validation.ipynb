{
 "cells": [
  {
   "cell_type": "markdown",
   "metadata": {},
   "source": [
    "# XGBoost Monotonic Trend Validation\n",
    "This notebook shows an example of checking monotonic trends have been applied successfully in an xgboost model."
   ]
  },
  {
   "cell_type": "markdown",
   "metadata": {
    "toc": true
   },
   "source": [
    "<h1>Table of Contents<span class=\"tocSkip\"></span></h1>\n",
    "<div class=\"toc\"><ul class=\"toc-item\"><li><span><a href=\"#XGBoost-Monotonic-Trend-Validation\" data-toc-modified-id=\"XGBoost-Monotonic-Trend-Validation-1\"><span class=\"toc-item-num\">1&nbsp;&nbsp;</span>XGBoost Monotonic Trend Validation</a></span></li><li><span><a href=\"#Build-example-xgboost-model\" data-toc-modified-id=\"Build-example-xgboost-model-2\"><span class=\"toc-item-num\">2&nbsp;&nbsp;</span>Build example xgboost model</a></span><ul class=\"toc-item\"><li><span><a href=\"#Load-data-from-sklearn\" data-toc-modified-id=\"Load-data-from-sklearn-2.1\"><span class=\"toc-item-num\">2.1&nbsp;&nbsp;</span>Load data from sklearn</a></span></li><li><span><a href=\"#Create-xgboost-matrix\" data-toc-modified-id=\"Create-xgboost-matrix-2.2\"><span class=\"toc-item-num\">2.2&nbsp;&nbsp;</span>Create xgboost matrix</a></span></li><li><span><a href=\"#Set-up-monotonic-features-for-training\" data-toc-modified-id=\"Set-up-monotonic-features-for-training-2.3\"><span class=\"toc-item-num\">2.3&nbsp;&nbsp;</span>Set up monotonic features for training</a></span></li><li><span><a href=\"#Build-model\" data-toc-modified-id=\"Build-model-2.4\"><span class=\"toc-item-num\">2.4&nbsp;&nbsp;</span>Build model</a></span></li><li><span><a href=\"#Check-feature-importance\" data-toc-modified-id=\"Check-feature-importance-2.5\"><span class=\"toc-item-num\">2.5&nbsp;&nbsp;</span>Check feature importance</a></span></li></ul></li><li><span><a href=\"#Check-monotonic-trends-have-been-implemented-correctly-in-the-model\" data-toc-modified-id=\"Check-monotonic-trends-have-been-implemented-correctly-in-the-model-3\"><span class=\"toc-item-num\">3&nbsp;&nbsp;</span>Check monotonic trends have been implemented correctly in the model</a></span><ul class=\"toc-item\"><li><span><a href=\"#Get-tree-node-predictions\" data-toc-modified-id=\"Get-tree-node-predictions-3.1\"><span class=\"toc-item-num\">3.1&nbsp;&nbsp;</span>Get tree node predictions</a></span></li><li><span><a href=\"#Check-monotonic-trends\" data-toc-modified-id=\"Check-monotonic-trends-3.2\"><span class=\"toc-item-num\">3.2&nbsp;&nbsp;</span>Check monotonic trends</a></span></li></ul></li></ul></div>"
   ]
  },
  {
   "cell_type": "code",
   "execution_count": 1,
   "metadata": {},
   "outputs": [],
   "source": [
    "import xgboost as xgb\n",
    "import pandas as pd\n",
    "from sklearn.datasets import load_boston"
   ]
  },
  {
   "cell_type": "code",
   "execution_count": 2,
   "metadata": {},
   "outputs": [],
   "source": [
    "import pygbmexpl.xgb.parser as xgb_parser\n",
    "import pygbmexpl.xgb.validate as xgb_validate"
   ]
  },
  {
   "cell_type": "markdown",
   "metadata": {},
   "source": [
    "# Build example xgboost model"
   ]
  },
  {
   "cell_type": "markdown",
   "metadata": {},
   "source": [
    "## Load data from sklearn"
   ]
  },
  {
   "cell_type": "code",
   "execution_count": 3,
   "metadata": {},
   "outputs": [],
   "source": [
    "boston = load_boston()"
   ]
  },
  {
   "cell_type": "markdown",
   "metadata": {},
   "source": [
    "## Create xgboost matrix"
   ]
  },
  {
   "cell_type": "code",
   "execution_count": 4,
   "metadata": {},
   "outputs": [],
   "source": [
    "xgb_data = xgb.DMatrix(\n",
    "    data = boston['data'], \n",
    "    label = boston['target'], \n",
    "    feature_names = boston['feature_names']\n",
    ")"
   ]
  },
  {
   "cell_type": "markdown",
   "metadata": {},
   "source": [
    "## Set up monotonic features for training"
   ]
  },
  {
   "cell_type": "code",
   "execution_count": 5,
   "metadata": {},
   "outputs": [],
   "source": [
    "monotonic_constraints = pd.Series([0] * len(boston['feature_names']), index = boston['feature_names'])"
   ]
  },
  {
   "cell_type": "code",
   "execution_count": 6,
   "metadata": {},
   "outputs": [],
   "source": [
    "monotonic_constraints.loc[monotonic_constraints.index.isin(['LSTAT','CRIM'])] = -1"
   ]
  },
  {
   "cell_type": "code",
   "execution_count": 7,
   "metadata": {},
   "outputs": [],
   "source": [
    "monotonic_constraints.loc[monotonic_constraints.index.isin(['RM', 'CHAS'])] = 1"
   ]
  },
  {
   "cell_type": "code",
   "execution_count": 8,
   "metadata": {},
   "outputs": [
    {
     "data": {
      "text/plain": [
       "CRIM      -1\n",
       "ZN         0\n",
       "INDUS      0\n",
       "CHAS       1\n",
       "NOX        0\n",
       "RM         1\n",
       "AGE        0\n",
       "DIS        0\n",
       "RAD        0\n",
       "TAX        0\n",
       "PTRATIO    0\n",
       "B          0\n",
       "LSTAT     -1\n",
       "dtype: int64"
      ]
     },
     "execution_count": 8,
     "metadata": {},
     "output_type": "execute_result"
    }
   ],
   "source": [
    "monotonic_constraints"
   ]
  },
  {
   "cell_type": "code",
   "execution_count": 9,
   "metadata": {},
   "outputs": [
    {
     "data": {
      "text/plain": [
       "(-1, 0, 0, 1, 0, 1, 0, 0, 0, 0, 0, 0, -1)"
      ]
     },
     "execution_count": 9,
     "metadata": {},
     "output_type": "execute_result"
    }
   ],
   "source": [
    "tuple(monotonic_constraints)"
   ]
  },
  {
   "cell_type": "markdown",
   "metadata": {},
   "source": [
    "## Build model"
   ]
  },
  {
   "cell_type": "code",
   "execution_count": 10,
   "metadata": {},
   "outputs": [],
   "source": [
    "model = xgb.train(\n",
    "    params = {\n",
    "        'silent': 1,\n",
    "        'max_depth': 3,\n",
    "        'monotone_constraints': tuple(monotonic_constraints)\n",
    "    }, \n",
    "    dtrain = xgb_data, \n",
    "    num_boost_round = 100\n",
    ")"
   ]
  },
  {
   "cell_type": "markdown",
   "metadata": {},
   "source": [
    "## Check feature importance\n",
    "Just using default of # times each variables is used to split"
   ]
  },
  {
   "cell_type": "code",
   "execution_count": 11,
   "metadata": {},
   "outputs": [
    {
     "data": {
      "text/plain": [
       "{'LSTAT': 24,\n",
       " 'RM': 39,\n",
       " 'DIS': 145,\n",
       " 'NOX': 53,\n",
       " 'CRIM': 53,\n",
       " 'TAX': 29,\n",
       " 'PTRATIO': 30,\n",
       " 'B': 88,\n",
       " 'AGE': 123,\n",
       " 'INDUS': 30,\n",
       " 'RAD': 16,\n",
       " 'ZN': 9,\n",
       " 'CHAS': 2}"
      ]
     },
     "execution_count": 11,
     "metadata": {},
     "output_type": "execute_result"
    }
   ],
   "source": [
    "model.get_score()"
   ]
  },
  {
   "cell_type": "markdown",
   "metadata": {},
   "source": [
    "# Check monotonic trends have been implemented correctly in the model"
   ]
  },
  {
   "cell_type": "markdown",
   "metadata": {},
   "source": [
    "## Get tree node predictions"
   ]
  },
  {
   "cell_type": "code",
   "execution_count": 12,
   "metadata": {},
   "outputs": [],
   "source": [
    "tree_df = xgb_parser.extract_model_predictions(model)"
   ]
  },
  {
   "cell_type": "code",
   "execution_count": 13,
   "metadata": {},
   "outputs": [
    {
     "data": {
      "text/plain": [
       "(1382, 15)"
      ]
     },
     "execution_count": 13,
     "metadata": {},
     "output_type": "execute_result"
    }
   ],
   "source": [
    "tree_df.shape"
   ]
  },
  {
   "cell_type": "code",
   "execution_count": 14,
   "metadata": {},
   "outputs": [
    {
     "data": {
      "text/plain": [
       "100"
      ]
     },
     "execution_count": 14,
     "metadata": {},
     "output_type": "execute_result"
    }
   ],
   "source": [
    "tree_df['tree'].nunique()"
   ]
  },
  {
   "cell_type": "code",
   "execution_count": 15,
   "metadata": {},
   "outputs": [
    {
     "data": {
      "text/html": [
       "<div>\n",
       "<style scoped>\n",
       "    .dataframe tbody tr th:only-of-type {\n",
       "        vertical-align: middle;\n",
       "    }\n",
       "\n",
       "    .dataframe tbody tr th {\n",
       "        vertical-align: top;\n",
       "    }\n",
       "\n",
       "    .dataframe thead th {\n",
       "        text-align: right;\n",
       "    }\n",
       "</style>\n",
       "<table border=\"1\" class=\"dataframe\">\n",
       "  <thead>\n",
       "    <tr style=\"text-align: right;\">\n",
       "      <th></th>\n",
       "      <th>tree</th>\n",
       "      <th>nodeid</th>\n",
       "      <th>depth</th>\n",
       "      <th>yes</th>\n",
       "      <th>no</th>\n",
       "      <th>missing</th>\n",
       "      <th>split</th>\n",
       "      <th>split_condition</th>\n",
       "      <th>leaf</th>\n",
       "      <th>gain</th>\n",
       "      <th>cover</th>\n",
       "      <th>node_type</th>\n",
       "      <th>H</th>\n",
       "      <th>G</th>\n",
       "      <th>weight</th>\n",
       "    </tr>\n",
       "  </thead>\n",
       "  <tbody>\n",
       "    <tr>\n",
       "      <th>0</th>\n",
       "      <td>0</td>\n",
       "      <td>0</td>\n",
       "      <td>0</td>\n",
       "      <td>1.0</td>\n",
       "      <td>2.0</td>\n",
       "      <td>1.0</td>\n",
       "      <td>LSTAT</td>\n",
       "      <td>9.725000</td>\n",
       "      <td>NaN</td>\n",
       "      <td>18247.609400</td>\n",
       "      <td>506</td>\n",
       "      <td>internal</td>\n",
       "      <td>506</td>\n",
       "      <td>-3275.224696</td>\n",
       "      <td>6.472776</td>\n",
       "    </tr>\n",
       "    <tr>\n",
       "      <th>1</th>\n",
       "      <td>0</td>\n",
       "      <td>1</td>\n",
       "      <td>1</td>\n",
       "      <td>3.0</td>\n",
       "      <td>4.0</td>\n",
       "      <td>3.0</td>\n",
       "      <td>RM</td>\n",
       "      <td>6.941000</td>\n",
       "      <td>NaN</td>\n",
       "      <td>6860.234380</td>\n",
       "      <td>212</td>\n",
       "      <td>internal</td>\n",
       "      <td>212</td>\n",
       "      <td>-1807.070584</td>\n",
       "      <td>8.523918</td>\n",
       "    </tr>\n",
       "    <tr>\n",
       "      <th>2</th>\n",
       "      <td>0</td>\n",
       "      <td>2</td>\n",
       "      <td>1</td>\n",
       "      <td>5.0</td>\n",
       "      <td>6.0</td>\n",
       "      <td>5.0</td>\n",
       "      <td>LSTAT</td>\n",
       "      <td>16.084999</td>\n",
       "      <td>NaN</td>\n",
       "      <td>2385.593750</td>\n",
       "      <td>294</td>\n",
       "      <td>internal</td>\n",
       "      <td>294</td>\n",
       "      <td>-1468.154113</td>\n",
       "      <td>4.993721</td>\n",
       "    </tr>\n",
       "    <tr>\n",
       "      <th>3</th>\n",
       "      <td>0</td>\n",
       "      <td>3</td>\n",
       "      <td>2</td>\n",
       "      <td>7.0</td>\n",
       "      <td>8.0</td>\n",
       "      <td>7.0</td>\n",
       "      <td>DIS</td>\n",
       "      <td>1.484950</td>\n",
       "      <td>NaN</td>\n",
       "      <td>203.609375</td>\n",
       "      <td>142</td>\n",
       "      <td>internal</td>\n",
       "      <td>142</td>\n",
       "      <td>-1031.574769</td>\n",
       "      <td>7.264611</td>\n",
       "    </tr>\n",
       "    <tr>\n",
       "      <th>4</th>\n",
       "      <td>0</td>\n",
       "      <td>4</td>\n",
       "      <td>2</td>\n",
       "      <td>9.0</td>\n",
       "      <td>10.0</td>\n",
       "      <td>9.0</td>\n",
       "      <td>RM</td>\n",
       "      <td>7.437000</td>\n",
       "      <td>NaN</td>\n",
       "      <td>713.554688</td>\n",
       "      <td>70</td>\n",
       "      <td>internal</td>\n",
       "      <td>70</td>\n",
       "      <td>-775.495815</td>\n",
       "      <td>11.078512</td>\n",
       "    </tr>\n",
       "  </tbody>\n",
       "</table>\n",
       "</div>"
      ],
      "text/plain": [
       "   tree  nodeid  depth  yes    no  missing  split  split_condition  leaf  \\\n",
       "0     0       0      0  1.0   2.0      1.0  LSTAT         9.725000   NaN   \n",
       "1     0       1      1  3.0   4.0      3.0     RM         6.941000   NaN   \n",
       "2     0       2      1  5.0   6.0      5.0  LSTAT        16.084999   NaN   \n",
       "3     0       3      2  7.0   8.0      7.0    DIS         1.484950   NaN   \n",
       "4     0       4      2  9.0  10.0      9.0     RM         7.437000   NaN   \n",
       "\n",
       "           gain  cover node_type    H            G     weight  \n",
       "0  18247.609400    506  internal  506 -3275.224696   6.472776  \n",
       "1   6860.234380    212  internal  212 -1807.070584   8.523918  \n",
       "2   2385.593750    294  internal  294 -1468.154113   4.993721  \n",
       "3    203.609375    142  internal  142 -1031.574769   7.264611  \n",
       "4    713.554688     70  internal   70  -775.495815  11.078512  "
      ]
     },
     "execution_count": 15,
     "metadata": {},
     "output_type": "execute_result"
    }
   ],
   "source": [
    "tree_df.head()"
   ]
  },
  {
   "cell_type": "markdown",
   "metadata": {},
   "source": [
    "## Check monotonic trends"
   ]
  },
  {
   "cell_type": "code",
   "execution_count": 16,
   "metadata": {},
   "outputs": [],
   "source": [
    "monotonic_constraint_check = xgb_validate.validate_monotonic_constraints_df(\n",
    "    trees_df = tree_df, \n",
    "    constraints = {\n",
    "        'LSTAT': -1,\n",
    "        'CRIM': -1,\n",
    "        'RM': 1,\n",
    "        'CHAS': 1\n",
    "    }\n",
    ")"
   ]
  },
  {
   "cell_type": "code",
   "execution_count": 17,
   "metadata": {},
   "outputs": [
    {
     "data": {
      "text/plain": [
       "variable\n",
       "CHAS     True\n",
       "CRIM     True\n",
       "LSTAT    True\n",
       "RM       True\n",
       "Name: monotonic, dtype: bool"
      ]
     },
     "execution_count": 17,
     "metadata": {},
     "output_type": "execute_result"
    }
   ],
   "source": [
    "monotonic_constraint_check"
   ]
  },
  {
   "cell_type": "code",
   "execution_count": 18,
   "metadata": {},
   "outputs": [],
   "source": [
    "monotonic_constraint_check2 = xgb_validate.validate_monotonic_constraints_df(\n",
    "    trees_df = tree_df, \n",
    "    constraints = {\n",
    "        'LSTAT': -1,\n",
    "        'CRIM': -1,\n",
    "        'RM': 1,\n",
    "        'CHAS': 1\n",
    "    },\n",
    "    return_detailed_results = True\n",
    ")"
   ]
  },
  {
   "cell_type": "code",
   "execution_count": 19,
   "metadata": {},
   "outputs": [
    {
     "data": {
      "text/html": [
       "<div>\n",
       "<style scoped>\n",
       "    .dataframe tbody tr th:only-of-type {\n",
       "        vertical-align: middle;\n",
       "    }\n",
       "\n",
       "    .dataframe tbody tr th {\n",
       "        vertical-align: top;\n",
       "    }\n",
       "\n",
       "    .dataframe thead th {\n",
       "        text-align: right;\n",
       "    }\n",
       "</style>\n",
       "<table border=\"1\" class=\"dataframe\">\n",
       "  <thead>\n",
       "    <tr style=\"text-align: right;\">\n",
       "      <th></th>\n",
       "      <th>variable</th>\n",
       "      <th>tree</th>\n",
       "      <th>nodeid</th>\n",
       "      <th>monotonic_trend</th>\n",
       "      <th>monotonic</th>\n",
       "      <th>child_nodes_left_max_prediction</th>\n",
       "      <th>child_nodes_right_min_prediction</th>\n",
       "      <th>child_nodes_left</th>\n",
       "      <th>child_nodes_right</th>\n",
       "    </tr>\n",
       "  </thead>\n",
       "  <tbody>\n",
       "    <tr>\n",
       "      <th>0</th>\n",
       "      <td>CHAS</td>\n",
       "      <td>63</td>\n",
       "      <td>2</td>\n",
       "      <td>1</td>\n",
       "      <td>True</td>\n",
       "      <td>0.104237</td>\n",
       "      <td>0.104237</td>\n",
       "      <td>[5.0, 11.0, 12.0]</td>\n",
       "      <td>[6.0, 13.0, 14.0]</td>\n",
       "    </tr>\n",
       "    <tr>\n",
       "      <th>1</th>\n",
       "      <td>CHAS</td>\n",
       "      <td>72</td>\n",
       "      <td>4</td>\n",
       "      <td>1</td>\n",
       "      <td>True</td>\n",
       "      <td>-0.006902</td>\n",
       "      <td>0.086598</td>\n",
       "      <td>[9.0]</td>\n",
       "      <td>[10.0]</td>\n",
       "    </tr>\n",
       "    <tr>\n",
       "      <th>2</th>\n",
       "      <td>CRIM</td>\n",
       "      <td>1</td>\n",
       "      <td>4</td>\n",
       "      <td>-1</td>\n",
       "      <td>True</td>\n",
       "      <td>3.540831</td>\n",
       "      <td>2.162131</td>\n",
       "      <td>[9.0]</td>\n",
       "      <td>[10.0]</td>\n",
       "    </tr>\n",
       "    <tr>\n",
       "      <th>3</th>\n",
       "      <td>CRIM</td>\n",
       "      <td>4</td>\n",
       "      <td>4</td>\n",
       "      <td>-1</td>\n",
       "      <td>True</td>\n",
       "      <td>1.194091</td>\n",
       "      <td>0.150783</td>\n",
       "      <td>[9.0]</td>\n",
       "      <td>[10.0]</td>\n",
       "    </tr>\n",
       "    <tr>\n",
       "      <th>4</th>\n",
       "      <td>CRIM</td>\n",
       "      <td>6</td>\n",
       "      <td>2</td>\n",
       "      <td>-1</td>\n",
       "      <td>True</td>\n",
       "      <td>0.685518</td>\n",
       "      <td>-0.715208</td>\n",
       "      <td>[5.0, 9.0, 10.0]</td>\n",
       "      <td>[6.0, 11.0, 12.0]</td>\n",
       "    </tr>\n",
       "    <tr>\n",
       "      <th>5</th>\n",
       "      <td>CRIM</td>\n",
       "      <td>6</td>\n",
       "      <td>6</td>\n",
       "      <td>-1</td>\n",
       "      <td>True</td>\n",
       "      <td>-0.017087</td>\n",
       "      <td>-0.715208</td>\n",
       "      <td>[11.0]</td>\n",
       "      <td>[12.0]</td>\n",
       "    </tr>\n",
       "    <tr>\n",
       "      <th>6</th>\n",
       "      <td>CRIM</td>\n",
       "      <td>7</td>\n",
       "      <td>1</td>\n",
       "      <td>-1</td>\n",
       "      <td>True</td>\n",
       "      <td>4.390680</td>\n",
       "      <td>0.326724</td>\n",
       "      <td>[3.0]</td>\n",
       "      <td>[4.0]</td>\n",
       "    </tr>\n",
       "    <tr>\n",
       "      <th>7</th>\n",
       "      <td>CRIM</td>\n",
       "      <td>8</td>\n",
       "      <td>1</td>\n",
       "      <td>-1</td>\n",
       "      <td>True</td>\n",
       "      <td>3.512544</td>\n",
       "      <td>0.277715</td>\n",
       "      <td>[3.0]</td>\n",
       "      <td>[4.0]</td>\n",
       "    </tr>\n",
       "    <tr>\n",
       "      <th>8</th>\n",
       "      <td>CRIM</td>\n",
       "      <td>11</td>\n",
       "      <td>4</td>\n",
       "      <td>-1</td>\n",
       "      <td>True</td>\n",
       "      <td>0.104852</td>\n",
       "      <td>-0.437945</td>\n",
       "      <td>[9.0]</td>\n",
       "      <td>[10.0]</td>\n",
       "    </tr>\n",
       "    <tr>\n",
       "      <th>9</th>\n",
       "      <td>CRIM</td>\n",
       "      <td>13</td>\n",
       "      <td>4</td>\n",
       "      <td>-1</td>\n",
       "      <td>True</td>\n",
       "      <td>0.613249</td>\n",
       "      <td>0.061723</td>\n",
       "      <td>[9.0]</td>\n",
       "      <td>[10.0]</td>\n",
       "    </tr>\n",
       "  </tbody>\n",
       "</table>\n",
       "</div>"
      ],
      "text/plain": [
       "  variable  tree  nodeid  monotonic_trend  monotonic  \\\n",
       "0     CHAS    63       2                1       True   \n",
       "1     CHAS    72       4                1       True   \n",
       "2     CRIM     1       4               -1       True   \n",
       "3     CRIM     4       4               -1       True   \n",
       "4     CRIM     6       2               -1       True   \n",
       "5     CRIM     6       6               -1       True   \n",
       "6     CRIM     7       1               -1       True   \n",
       "7     CRIM     8       1               -1       True   \n",
       "8     CRIM    11       4               -1       True   \n",
       "9     CRIM    13       4               -1       True   \n",
       "\n",
       "   child_nodes_left_max_prediction  child_nodes_right_min_prediction  \\\n",
       "0                         0.104237                          0.104237   \n",
       "1                        -0.006902                          0.086598   \n",
       "2                         3.540831                          2.162131   \n",
       "3                         1.194091                          0.150783   \n",
       "4                         0.685518                         -0.715208   \n",
       "5                        -0.017087                         -0.715208   \n",
       "6                         4.390680                          0.326724   \n",
       "7                         3.512544                          0.277715   \n",
       "8                         0.104852                         -0.437945   \n",
       "9                         0.613249                          0.061723   \n",
       "\n",
       "    child_nodes_left  child_nodes_right  \n",
       "0  [5.0, 11.0, 12.0]  [6.0, 13.0, 14.0]  \n",
       "1              [9.0]             [10.0]  \n",
       "2              [9.0]             [10.0]  \n",
       "3              [9.0]             [10.0]  \n",
       "4   [5.0, 9.0, 10.0]  [6.0, 11.0, 12.0]  \n",
       "5             [11.0]             [12.0]  \n",
       "6              [3.0]              [4.0]  \n",
       "7              [3.0]              [4.0]  \n",
       "8              [9.0]             [10.0]  \n",
       "9              [9.0]             [10.0]  "
      ]
     },
     "execution_count": 19,
     "metadata": {},
     "output_type": "execute_result"
    }
   ],
   "source": [
    "monotonic_constraint_check2.head(10)"
   ]
  },
  {
   "cell_type": "code",
   "execution_count": 20,
   "metadata": {},
   "outputs": [
    {
     "data": {
      "text/html": [
       "<div>\n",
       "<style scoped>\n",
       "    .dataframe tbody tr th:only-of-type {\n",
       "        vertical-align: middle;\n",
       "    }\n",
       "\n",
       "    .dataframe tbody tr th {\n",
       "        vertical-align: top;\n",
       "    }\n",
       "\n",
       "    .dataframe thead th {\n",
       "        text-align: right;\n",
       "    }\n",
       "</style>\n",
       "<table border=\"1\" class=\"dataframe\">\n",
       "  <thead>\n",
       "    <tr style=\"text-align: right;\">\n",
       "      <th></th>\n",
       "      <th>variable</th>\n",
       "      <th>tree</th>\n",
       "      <th>nodeid</th>\n",
       "      <th>monotonic_trend</th>\n",
       "      <th>monotonic</th>\n",
       "      <th>child_nodes_left_max_prediction</th>\n",
       "      <th>child_nodes_right_min_prediction</th>\n",
       "      <th>child_nodes_left</th>\n",
       "      <th>child_nodes_right</th>\n",
       "    </tr>\n",
       "  </thead>\n",
       "  <tbody>\n",
       "    <tr>\n",
       "      <th>107</th>\n",
       "      <td>RM</td>\n",
       "      <td>52</td>\n",
       "      <td>4</td>\n",
       "      <td>1</td>\n",
       "      <td>True</td>\n",
       "      <td>-0.341639</td>\n",
       "      <td>0.015039</td>\n",
       "      <td>[9.0]</td>\n",
       "      <td>[10.0]</td>\n",
       "    </tr>\n",
       "    <tr>\n",
       "      <th>108</th>\n",
       "      <td>RM</td>\n",
       "      <td>53</td>\n",
       "      <td>3</td>\n",
       "      <td>1</td>\n",
       "      <td>True</td>\n",
       "      <td>0.026007</td>\n",
       "      <td>0.605285</td>\n",
       "      <td>[7.0]</td>\n",
       "      <td>[8.0]</td>\n",
       "    </tr>\n",
       "    <tr>\n",
       "      <th>109</th>\n",
       "      <td>RM</td>\n",
       "      <td>61</td>\n",
       "      <td>3</td>\n",
       "      <td>1</td>\n",
       "      <td>True</td>\n",
       "      <td>-0.029840</td>\n",
       "      <td>0.185373</td>\n",
       "      <td>[7.0]</td>\n",
       "      <td>[8.0]</td>\n",
       "    </tr>\n",
       "    <tr>\n",
       "      <th>110</th>\n",
       "      <td>RM</td>\n",
       "      <td>70</td>\n",
       "      <td>6</td>\n",
       "      <td>1</td>\n",
       "      <td>True</td>\n",
       "      <td>-0.002281</td>\n",
       "      <td>0.397346</td>\n",
       "      <td>[11.0]</td>\n",
       "      <td>[12.0]</td>\n",
       "    </tr>\n",
       "    <tr>\n",
       "      <th>111</th>\n",
       "      <td>RM</td>\n",
       "      <td>79</td>\n",
       "      <td>6</td>\n",
       "      <td>1</td>\n",
       "      <td>True</td>\n",
       "      <td>-0.004531</td>\n",
       "      <td>0.316898</td>\n",
       "      <td>[11.0]</td>\n",
       "      <td>[12.0]</td>\n",
       "    </tr>\n",
       "    <tr>\n",
       "      <th>112</th>\n",
       "      <td>RM</td>\n",
       "      <td>81</td>\n",
       "      <td>5</td>\n",
       "      <td>1</td>\n",
       "      <td>True</td>\n",
       "      <td>-0.026550</td>\n",
       "      <td>0.140790</td>\n",
       "      <td>[11.0]</td>\n",
       "      <td>[12.0]</td>\n",
       "    </tr>\n",
       "    <tr>\n",
       "      <th>113</th>\n",
       "      <td>RM</td>\n",
       "      <td>82</td>\n",
       "      <td>5</td>\n",
       "      <td>1</td>\n",
       "      <td>True</td>\n",
       "      <td>-0.097621</td>\n",
       "      <td>0.291219</td>\n",
       "      <td>[11.0]</td>\n",
       "      <td>[12.0]</td>\n",
       "    </tr>\n",
       "    <tr>\n",
       "      <th>114</th>\n",
       "      <td>RM</td>\n",
       "      <td>86</td>\n",
       "      <td>3</td>\n",
       "      <td>1</td>\n",
       "      <td>True</td>\n",
       "      <td>-0.025446</td>\n",
       "      <td>0.102896</td>\n",
       "      <td>[7.0]</td>\n",
       "      <td>[8.0]</td>\n",
       "    </tr>\n",
       "    <tr>\n",
       "      <th>115</th>\n",
       "      <td>RM</td>\n",
       "      <td>94</td>\n",
       "      <td>3</td>\n",
       "      <td>1</td>\n",
       "      <td>True</td>\n",
       "      <td>-0.027242</td>\n",
       "      <td>0.023875</td>\n",
       "      <td>[7.0]</td>\n",
       "      <td>[8.0]</td>\n",
       "    </tr>\n",
       "    <tr>\n",
       "      <th>116</th>\n",
       "      <td>RM</td>\n",
       "      <td>98</td>\n",
       "      <td>6</td>\n",
       "      <td>1</td>\n",
       "      <td>True</td>\n",
       "      <td>-0.002891</td>\n",
       "      <td>0.264708</td>\n",
       "      <td>[11.0]</td>\n",
       "      <td>[12.0]</td>\n",
       "    </tr>\n",
       "  </tbody>\n",
       "</table>\n",
       "</div>"
      ],
      "text/plain": [
       "    variable  tree  nodeid  monotonic_trend  monotonic  \\\n",
       "107       RM    52       4                1       True   \n",
       "108       RM    53       3                1       True   \n",
       "109       RM    61       3                1       True   \n",
       "110       RM    70       6                1       True   \n",
       "111       RM    79       6                1       True   \n",
       "112       RM    81       5                1       True   \n",
       "113       RM    82       5                1       True   \n",
       "114       RM    86       3                1       True   \n",
       "115       RM    94       3                1       True   \n",
       "116       RM    98       6                1       True   \n",
       "\n",
       "     child_nodes_left_max_prediction  child_nodes_right_min_prediction  \\\n",
       "107                        -0.341639                          0.015039   \n",
       "108                         0.026007                          0.605285   \n",
       "109                        -0.029840                          0.185373   \n",
       "110                        -0.002281                          0.397346   \n",
       "111                        -0.004531                          0.316898   \n",
       "112                        -0.026550                          0.140790   \n",
       "113                        -0.097621                          0.291219   \n",
       "114                        -0.025446                          0.102896   \n",
       "115                        -0.027242                          0.023875   \n",
       "116                        -0.002891                          0.264708   \n",
       "\n",
       "    child_nodes_left child_nodes_right  \n",
       "107            [9.0]            [10.0]  \n",
       "108            [7.0]             [8.0]  \n",
       "109            [7.0]             [8.0]  \n",
       "110           [11.0]            [12.0]  \n",
       "111           [11.0]            [12.0]  \n",
       "112           [11.0]            [12.0]  \n",
       "113           [11.0]            [12.0]  \n",
       "114            [7.0]             [8.0]  \n",
       "115            [7.0]             [8.0]  \n",
       "116           [11.0]            [12.0]  "
      ]
     },
     "execution_count": 20,
     "metadata": {},
     "output_type": "execute_result"
    }
   ],
   "source": [
    "monotonic_constraint_check2.tail(10)"
   ]
  },
  {
   "cell_type": "code",
   "execution_count": null,
   "metadata": {},
   "outputs": [],
   "source": []
  },
  {
   "cell_type": "code",
   "execution_count": null,
   "metadata": {},
   "outputs": [],
   "source": []
  },
  {
   "cell_type": "code",
   "execution_count": null,
   "metadata": {},
   "outputs": [],
   "source": []
  },
  {
   "cell_type": "code",
   "execution_count": null,
   "metadata": {},
   "outputs": [],
   "source": []
  },
  {
   "cell_type": "code",
   "execution_count": null,
   "metadata": {},
   "outputs": [],
   "source": []
  }
 ],
 "metadata": {
  "kernelspec": {
   "display_name": "pygbmexpl",
   "language": "python",
   "name": "pygbmexpl"
  },
  "language_info": {
   "codemirror_mode": {
    "name": "ipython",
    "version": 3
   },
   "file_extension": ".py",
   "mimetype": "text/x-python",
   "name": "python",
   "nbconvert_exporter": "python",
   "pygments_lexer": "ipython3",
   "version": "3.7.3"
  },
  "toc": {
   "base_numbering": 1,
   "nav_menu": {},
   "number_sections": true,
   "sideBar": true,
   "skip_h1_title": false,
   "title_cell": "Table of Contents",
   "title_sidebar": "Contents",
   "toc_cell": true,
   "toc_position": {},
   "toc_section_display": true,
   "toc_window_display": true
  }
 },
 "nbformat": 4,
 "nbformat_minor": 2
}
