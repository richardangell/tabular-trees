{
 "cells": [
  {
   "cell_type": "markdown",
   "metadata": {},
   "source": [
    "# XGBoost Model Parser\n",
    "This notebook shows an example of parsing an xgboost model with ttrees."
   ]
  },
  {
   "cell_type": "code",
   "execution_count": 1,
   "metadata": {},
   "outputs": [
    {
     "data": {
      "text/plain": [
       "'1.3.3'"
      ]
     },
     "execution_count": 1,
     "metadata": {},
     "output_type": "execute_result"
    }
   ],
   "source": [
    "from sklearn.datasets import load_boston\n",
    "import xgboost as xgb\n",
    "xgb.__version__"
   ]
  },
  {
   "cell_type": "code",
   "execution_count": 2,
   "metadata": {},
   "outputs": [],
   "source": [
    "import ttrees.xgb.parser as xgb_parser"
   ]
  },
  {
   "cell_type": "markdown",
   "metadata": {},
   "source": [
    "# Build example xgboost model"
   ]
  },
  {
   "cell_type": "markdown",
   "metadata": {},
   "source": [
    "## Load data from sklearn"
   ]
  },
  {
   "cell_type": "code",
   "execution_count": 3,
   "metadata": {},
   "outputs": [],
   "source": [
    "boston = load_boston()"
   ]
  },
  {
   "cell_type": "markdown",
   "metadata": {},
   "source": [
    "## Create xgboost matrix"
   ]
  },
  {
   "cell_type": "code",
   "execution_count": 4,
   "metadata": {},
   "outputs": [],
   "source": [
    "xgb_data = xgb.DMatrix(\n",
    "    data = boston['data'], \n",
    "    label = boston['target'], \n",
    "    feature_names = boston['feature_names']\n",
    ")"
   ]
  },
  {
   "cell_type": "markdown",
   "metadata": {},
   "source": [
    "## Build model"
   ]
  },
  {
   "cell_type": "code",
   "execution_count": 5,
   "metadata": {},
   "outputs": [
    {
     "name": "stdout",
     "output_type": "stream",
     "text": [
      "[21:28:33] WARNING: /Users/travis/build/dmlc/xgboost/src/learner.cc:541: \n",
      "Parameters: { silent } might not be used.\n",
      "\n",
      "  This may not be accurate due to some parameters are only used in language bindings but\n",
      "  passed down to XGBoost core.  Or some parameters are not used but slip through this\n",
      "  verification. Please open an issue if you find above cases.\n",
      "\n",
      "\n"
     ]
    }
   ],
   "source": [
    "model = xgb.train(\n",
    "    params = {\n",
    "        'silent': 1,\n",
    "        'max_depth': 3\n",
    "    }, \n",
    "    dtrain = xgb_data, \n",
    "    num_boost_round = 10\n",
    ")"
   ]
  },
  {
   "cell_type": "markdown",
   "metadata": {},
   "source": [
    "# Parse model"
   ]
  },
  {
   "cell_type": "code",
   "execution_count": 6,
   "metadata": {},
   "outputs": [],
   "source": [
    "model_tabular = xgb_parser.parse_model(model)"
   ]
  },
  {
   "cell_type": "code",
   "execution_count": 7,
   "metadata": {},
   "outputs": [
    {
     "data": {
      "text/plain": [
       "TabularTrees representation of xgboost (1.3.3) model\n",
       "  n trees: 10\n",
       "  max depth: 4\n",
       "  n nodes: 144\n",
       "  n leaf nodes: 77"
      ]
     },
     "execution_count": 7,
     "metadata": {},
     "output_type": "execute_result"
    }
   ],
   "source": [
    "model_tabular"
   ]
  },
  {
   "cell_type": "markdown",
   "metadata": {},
   "source": [
    "## Inspect tabular structure contents"
   ]
  },
  {
   "cell_type": "code",
   "execution_count": 8,
   "metadata": {},
   "outputs": [
    {
     "data": {
      "text/html": [
       "<div>\n",
       "<style scoped>\n",
       "    .dataframe tbody tr th:only-of-type {\n",
       "        vertical-align: middle;\n",
       "    }\n",
       "\n",
       "    .dataframe tbody tr th {\n",
       "        vertical-align: top;\n",
       "    }\n",
       "\n",
       "    .dataframe thead th {\n",
       "        text-align: right;\n",
       "    }\n",
       "</style>\n",
       "<table border=\"1\" class=\"dataframe\">\n",
       "  <thead>\n",
       "    <tr style=\"text-align: right;\">\n",
       "      <th></th>\n",
       "      <th>tree</th>\n",
       "      <th>nodeid</th>\n",
       "      <th>depth</th>\n",
       "      <th>yes</th>\n",
       "      <th>no</th>\n",
       "      <th>missing</th>\n",
       "      <th>split</th>\n",
       "      <th>split_condition</th>\n",
       "      <th>leaf</th>\n",
       "      <th>node_prediction</th>\n",
       "      <th>node_type</th>\n",
       "      <th>gain</th>\n",
       "      <th>cover</th>\n",
       "      <th>H</th>\n",
       "      <th>G</th>\n",
       "    </tr>\n",
       "  </thead>\n",
       "  <tbody>\n",
       "    <tr>\n",
       "      <th>0</th>\n",
       "      <td>0</td>\n",
       "      <td>0</td>\n",
       "      <td>0</td>\n",
       "      <td>1.0</td>\n",
       "      <td>2.0</td>\n",
       "      <td>1.0</td>\n",
       "      <td>LSTAT</td>\n",
       "      <td>9.725000</td>\n",
       "      <td>NaN</td>\n",
       "      <td>6.491532</td>\n",
       "      <td>internal</td>\n",
       "      <td>18247.609400</td>\n",
       "      <td>506</td>\n",
       "      <td>506</td>\n",
       "      <td>-3284.715003</td>\n",
       "    </tr>\n",
       "    <tr>\n",
       "      <th>1</th>\n",
       "      <td>0</td>\n",
       "      <td>1</td>\n",
       "      <td>1</td>\n",
       "      <td>3.0</td>\n",
       "      <td>4.0</td>\n",
       "      <td>3.0</td>\n",
       "      <td>RM</td>\n",
       "      <td>6.941000</td>\n",
       "      <td>NaN</td>\n",
       "      <td>8.572034</td>\n",
       "      <td>internal</td>\n",
       "      <td>6860.234380</td>\n",
       "      <td>212</td>\n",
       "      <td>212</td>\n",
       "      <td>-1817.271126</td>\n",
       "    </tr>\n",
       "    <tr>\n",
       "      <th>2</th>\n",
       "      <td>0</td>\n",
       "      <td>2</td>\n",
       "      <td>1</td>\n",
       "      <td>5.0</td>\n",
       "      <td>6.0</td>\n",
       "      <td>5.0</td>\n",
       "      <td>LSTAT</td>\n",
       "      <td>16.084999</td>\n",
       "      <td>NaN</td>\n",
       "      <td>4.991306</td>\n",
       "      <td>internal</td>\n",
       "      <td>2385.593750</td>\n",
       "      <td>294</td>\n",
       "      <td>294</td>\n",
       "      <td>-1467.443877</td>\n",
       "    </tr>\n",
       "    <tr>\n",
       "      <th>3</th>\n",
       "      <td>0</td>\n",
       "      <td>3</td>\n",
       "      <td>2</td>\n",
       "      <td>7.0</td>\n",
       "      <td>8.0</td>\n",
       "      <td>7.0</td>\n",
       "      <td>DIS</td>\n",
       "      <td>1.484950</td>\n",
       "      <td>NaN</td>\n",
       "      <td>7.336446</td>\n",
       "      <td>internal</td>\n",
       "      <td>564.898438</td>\n",
       "      <td>142</td>\n",
       "      <td>142</td>\n",
       "      <td>-1041.775311</td>\n",
       "    </tr>\n",
       "    <tr>\n",
       "      <th>4</th>\n",
       "      <td>0</td>\n",
       "      <td>4</td>\n",
       "      <td>2</td>\n",
       "      <td>9.0</td>\n",
       "      <td>10.0</td>\n",
       "      <td>9.0</td>\n",
       "      <td>RM</td>\n",
       "      <td>7.437000</td>\n",
       "      <td>NaN</td>\n",
       "      <td>11.078512</td>\n",
       "      <td>internal</td>\n",
       "      <td>713.554688</td>\n",
       "      <td>70</td>\n",
       "      <td>70</td>\n",
       "      <td>-775.495815</td>\n",
       "    </tr>\n",
       "  </tbody>\n",
       "</table>\n",
       "</div>"
      ],
      "text/plain": [
       "   tree  nodeid  depth  yes    no  missing  split  split_condition  leaf  \\\n",
       "0     0       0      0  1.0   2.0      1.0  LSTAT         9.725000   NaN   \n",
       "1     0       1      1  3.0   4.0      3.0     RM         6.941000   NaN   \n",
       "2     0       2      1  5.0   6.0      5.0  LSTAT        16.084999   NaN   \n",
       "3     0       3      2  7.0   8.0      7.0    DIS         1.484950   NaN   \n",
       "4     0       4      2  9.0  10.0      9.0     RM         7.437000   NaN   \n",
       "\n",
       "   node_prediction node_type          gain  cover    H            G  \n",
       "0         6.491532  internal  18247.609400    506  506 -3284.715003  \n",
       "1         8.572034  internal   6860.234380    212  212 -1817.271126  \n",
       "2         4.991306  internal   2385.593750    294  294 -1467.443877  \n",
       "3         7.336446  internal    564.898438    142  142 -1041.775311  \n",
       "4        11.078512  internal    713.554688     70   70  -775.495815  "
      ]
     },
     "execution_count": 8,
     "metadata": {},
     "output_type": "execute_result"
    }
   ],
   "source": [
    "model_tabular.tree_data.head()"
   ]
  },
  {
   "cell_type": "code",
   "execution_count": 9,
   "metadata": {},
   "outputs": [
    {
     "data": {
      "text/html": [
       "<div>\n",
       "<style scoped>\n",
       "    .dataframe tbody tr th:only-of-type {\n",
       "        vertical-align: middle;\n",
       "    }\n",
       "\n",
       "    .dataframe tbody tr th {\n",
       "        vertical-align: top;\n",
       "    }\n",
       "\n",
       "    .dataframe thead th {\n",
       "        text-align: right;\n",
       "    }\n",
       "</style>\n",
       "<table border=\"1\" class=\"dataframe\">\n",
       "  <thead>\n",
       "    <tr style=\"text-align: right;\">\n",
       "      <th></th>\n",
       "      <th>tree</th>\n",
       "      <th>nodeid</th>\n",
       "      <th>depth</th>\n",
       "      <th>yes</th>\n",
       "      <th>no</th>\n",
       "      <th>missing</th>\n",
       "      <th>split</th>\n",
       "      <th>split_condition</th>\n",
       "      <th>leaf</th>\n",
       "      <th>node_prediction</th>\n",
       "      <th>node_type</th>\n",
       "      <th>gain</th>\n",
       "      <th>cover</th>\n",
       "      <th>H</th>\n",
       "      <th>G</th>\n",
       "    </tr>\n",
       "  </thead>\n",
       "  <tbody>\n",
       "    <tr>\n",
       "      <th>139</th>\n",
       "      <td>9</td>\n",
       "      <td>10</td>\n",
       "      <td>3</td>\n",
       "      <td>NaN</td>\n",
       "      <td>NaN</td>\n",
       "      <td>NaN</td>\n",
       "      <td>NaN</td>\n",
       "      <td>NaN</td>\n",
       "      <td>0.475139</td>\n",
       "      <td>0.475139</td>\n",
       "      <td>leaf</td>\n",
       "      <td>NaN</td>\n",
       "      <td>21</td>\n",
       "      <td>21</td>\n",
       "      <td>-9.977909</td>\n",
       "    </tr>\n",
       "    <tr>\n",
       "      <th>140</th>\n",
       "      <td>9</td>\n",
       "      <td>11</td>\n",
       "      <td>3</td>\n",
       "      <td>NaN</td>\n",
       "      <td>NaN</td>\n",
       "      <td>NaN</td>\n",
       "      <td>NaN</td>\n",
       "      <td>NaN</td>\n",
       "      <td>0.646066</td>\n",
       "      <td>0.646066</td>\n",
       "      <td>leaf</td>\n",
       "      <td>NaN</td>\n",
       "      <td>17</td>\n",
       "      <td>17</td>\n",
       "      <td>-10.983130</td>\n",
       "    </tr>\n",
       "    <tr>\n",
       "      <th>141</th>\n",
       "      <td>9</td>\n",
       "      <td>12</td>\n",
       "      <td>3</td>\n",
       "      <td>NaN</td>\n",
       "      <td>NaN</td>\n",
       "      <td>NaN</td>\n",
       "      <td>NaN</td>\n",
       "      <td>NaN</td>\n",
       "      <td>1.400117</td>\n",
       "      <td>1.400117</td>\n",
       "      <td>leaf</td>\n",
       "      <td>NaN</td>\n",
       "      <td>9</td>\n",
       "      <td>9</td>\n",
       "      <td>-12.601054</td>\n",
       "    </tr>\n",
       "    <tr>\n",
       "      <th>142</th>\n",
       "      <td>9</td>\n",
       "      <td>13</td>\n",
       "      <td>3</td>\n",
       "      <td>NaN</td>\n",
       "      <td>NaN</td>\n",
       "      <td>NaN</td>\n",
       "      <td>NaN</td>\n",
       "      <td>NaN</td>\n",
       "      <td>0.781052</td>\n",
       "      <td>0.781052</td>\n",
       "      <td>leaf</td>\n",
       "      <td>NaN</td>\n",
       "      <td>13</td>\n",
       "      <td>13</td>\n",
       "      <td>-10.153674</td>\n",
       "    </tr>\n",
       "    <tr>\n",
       "      <th>143</th>\n",
       "      <td>9</td>\n",
       "      <td>14</td>\n",
       "      <td>3</td>\n",
       "      <td>NaN</td>\n",
       "      <td>NaN</td>\n",
       "      <td>NaN</td>\n",
       "      <td>NaN</td>\n",
       "      <td>NaN</td>\n",
       "      <td>0.190661</td>\n",
       "      <td>0.190661</td>\n",
       "      <td>leaf</td>\n",
       "      <td>NaN</td>\n",
       "      <td>14</td>\n",
       "      <td>14</td>\n",
       "      <td>-2.669254</td>\n",
       "    </tr>\n",
       "  </tbody>\n",
       "</table>\n",
       "</div>"
      ],
      "text/plain": [
       "     tree  nodeid  depth  yes  no  missing split  split_condition      leaf  \\\n",
       "139     9      10      3  NaN NaN      NaN   NaN              NaN  0.475139   \n",
       "140     9      11      3  NaN NaN      NaN   NaN              NaN  0.646066   \n",
       "141     9      12      3  NaN NaN      NaN   NaN              NaN  1.400117   \n",
       "142     9      13      3  NaN NaN      NaN   NaN              NaN  0.781052   \n",
       "143     9      14      3  NaN NaN      NaN   NaN              NaN  0.190661   \n",
       "\n",
       "     node_prediction node_type  gain  cover   H          G  \n",
       "139         0.475139      leaf   NaN     21  21  -9.977909  \n",
       "140         0.646066      leaf   NaN     17  17 -10.983130  \n",
       "141         1.400117      leaf   NaN      9   9 -12.601054  \n",
       "142         0.781052      leaf   NaN     13  13 -10.153674  \n",
       "143         0.190661      leaf   NaN     14  14  -2.669254  "
      ]
     },
     "execution_count": 9,
     "metadata": {},
     "output_type": "execute_result"
    }
   ],
   "source": [
    "model_tabular.tree_data.tail()"
   ]
  },
  {
   "cell_type": "code",
   "execution_count": null,
   "metadata": {},
   "outputs": [],
   "source": []
  },
  {
   "cell_type": "code",
   "execution_count": null,
   "metadata": {},
   "outputs": [],
   "source": []
  },
  {
   "cell_type": "code",
   "execution_count": null,
   "metadata": {},
   "outputs": [],
   "source": []
  },
  {
   "cell_type": "code",
   "execution_count": null,
   "metadata": {},
   "outputs": [],
   "source": []
  }
 ],
 "metadata": {
  "kernelspec": {
   "display_name": "pygbmexpl",
   "language": "python",
   "name": "pygbmexpl"
  },
  "language_info": {
   "codemirror_mode": {
    "name": "ipython",
    "version": 3
   },
   "file_extension": ".py",
   "mimetype": "text/x-python",
   "name": "python",
   "nbconvert_exporter": "python",
   "pygments_lexer": "ipython3",
   "version": "3.7.9"
  },
  "toc": {
   "base_numbering": 1,
   "nav_menu": {},
   "number_sections": true,
   "sideBar": true,
   "skip_h1_title": false,
   "title_cell": "Table of Contents",
   "title_sidebar": "Contents",
   "toc_cell": false,
   "toc_position": {
    "height": "calc(100% - 180px)",
    "left": "10px",
    "top": "150px",
    "width": "384px"
   },
   "toc_section_display": true,
   "toc_window_display": true
  }
 },
 "nbformat": 4,
 "nbformat_minor": 2
}
