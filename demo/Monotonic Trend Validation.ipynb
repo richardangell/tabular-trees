{
 "cells": [
  {
   "attachments": {},
   "cell_type": "markdown",
   "metadata": {},
   "source": [
    "# Monotonic trend validation for an xgboost model"
   ]
  },
  {
   "cell_type": "code",
   "execution_count": 1,
   "metadata": {},
   "outputs": [],
   "source": [
    "import xgboost as xgb\n",
    "import pandas as pd\n",
    "from sklearn.datasets import load_diabetes"
   ]
  },
  {
   "cell_type": "code",
   "execution_count": 2,
   "metadata": {},
   "outputs": [],
   "source": [
    "import tabular_trees"
   ]
  },
  {
   "cell_type": "markdown",
   "metadata": {},
   "source": [
    "# Build example xgboost model"
   ]
  },
  {
   "cell_type": "markdown",
   "metadata": {},
   "source": [
    "## Load data from sklearn"
   ]
  },
  {
   "cell_type": "code",
   "execution_count": 3,
   "metadata": {},
   "outputs": [],
   "source": [
    "data = load_diabetes()"
   ]
  },
  {
   "cell_type": "markdown",
   "metadata": {},
   "source": [
    "## Create xgboost matrix"
   ]
  },
  {
   "cell_type": "code",
   "execution_count": 4,
   "metadata": {},
   "outputs": [],
   "source": [
    "xgb_data = xgb.DMatrix(\n",
    "    data = data['data'], \n",
    "    label = data['target'], \n",
    "    feature_names = data['feature_names']\n",
    ")"
   ]
  },
  {
   "cell_type": "code",
   "execution_count": 5,
   "metadata": {},
   "outputs": [
    {
     "data": {
      "text/plain": [
       "age   -1\n",
       "sex    0\n",
       "bmi   -1\n",
       "bp     1\n",
       "s1     0\n",
       "s2     0\n",
       "s3     0\n",
       "s4     0\n",
       "s5     0\n",
       "s6     1\n",
       "dtype: int64"
      ]
     },
     "execution_count": 5,
     "metadata": {},
     "output_type": "execute_result"
    }
   ],
   "source": [
    "monotonic_constraints = pd.Series([0] * len(data['feature_names']), index = data['feature_names'])\n",
    "monotonic_constraints.loc[monotonic_constraints.index.isin(['age','bmi'])] = -1\n",
    "monotonic_constraints.loc[monotonic_constraints.index.isin(['bp', 's6'])] = 1\n",
    "monotonic_constraints"
   ]
  },
  {
   "cell_type": "markdown",
   "metadata": {},
   "source": [
    "## Build model"
   ]
  },
  {
   "cell_type": "code",
   "execution_count": 6,
   "metadata": {},
   "outputs": [],
   "source": [
    "model = xgb.train(\n",
    "    params = {\n",
    "        'max_depth': 3,\n",
    "        'monotone_constraints': tuple(monotonic_constraints),\n",
    "        'tree_method': 'exact',\n",
    "    }, \n",
    "    dtrain = xgb_data, \n",
    "    num_boost_round = 100\n",
    ")"
   ]
  },
  {
   "cell_type": "code",
   "execution_count": 7,
   "metadata": {},
   "outputs": [
    {
     "data": {
      "text/plain": [
       "{'age': 35.0,\n",
       " 'sex': 19.0,\n",
       " 'bmi': 7.0,\n",
       " 'bp': 53.0,\n",
       " 's1': 113.0,\n",
       " 's2': 133.0,\n",
       " 's3': 80.0,\n",
       " 's4': 35.0,\n",
       " 's5': 144.0,\n",
       " 's6': 22.0}"
      ]
     },
     "execution_count": 7,
     "metadata": {},
     "output_type": "execute_result"
    }
   ],
   "source": [
    "model.get_score()"
   ]
  },
  {
   "cell_type": "markdown",
   "metadata": {},
   "source": [
    "# Check monotonic trends have been implemented correctly in the model"
   ]
  },
  {
   "attachments": {},
   "cell_type": "markdown",
   "metadata": {},
   "source": [
    "## Convert to tabular trees object"
   ]
  },
  {
   "cell_type": "code",
   "execution_count": 8,
   "metadata": {},
   "outputs": [],
   "source": [
    "xgboost_model_trees = tabular_trees.trees.export_tree_data(model)\n",
    "model_trees = xgboost_model_trees.to_tabular_trees()"
   ]
  },
  {
   "cell_type": "markdown",
   "metadata": {},
   "source": [
    "## Check monotonic trends"
   ]
  },
  {
   "cell_type": "code",
   "execution_count": 9,
   "metadata": {},
   "outputs": [],
   "source": [
    "monotonic_constraint_check = tabular_trees.validate.validate_monotonic_constraints(\n",
    "    tabular_trees = model_trees, \n",
    "    constraints = monotonic_constraints.loc[monotonic_constraints != 0].to_dict()\n",
    ")"
   ]
  },
  {
   "cell_type": "code",
   "execution_count": 10,
   "metadata": {},
   "outputs": [
    {
     "data": {
      "text/plain": [
       "{'age': True, 'bmi': True, 'bp': True, 's6': True}"
      ]
     },
     "execution_count": 10,
     "metadata": {},
     "output_type": "execute_result"
    }
   ],
   "source": [
    "monotonic_constraint_check.summary"
   ]
  },
  {
   "cell_type": "code",
   "execution_count": 11,
   "metadata": {},
   "outputs": [
    {
     "data": {
      "text/html": [
       "<div>\n",
       "<style scoped>\n",
       "    .dataframe tbody tr th:only-of-type {\n",
       "        vertical-align: middle;\n",
       "    }\n",
       "\n",
       "    .dataframe tbody tr th {\n",
       "        vertical-align: top;\n",
       "    }\n",
       "\n",
       "    .dataframe thead th {\n",
       "        text-align: right;\n",
       "    }\n",
       "</style>\n",
       "<table border=\"1\" class=\"dataframe\">\n",
       "  <thead>\n",
       "    <tr style=\"text-align: right;\">\n",
       "      <th></th>\n",
       "      <th>variable</th>\n",
       "      <th>tree</th>\n",
       "      <th>node</th>\n",
       "      <th>monotonic_trend</th>\n",
       "      <th>monotonic</th>\n",
       "      <th>child_nodes_left_max_prediction</th>\n",
       "      <th>child_nodes_right_min_prediction</th>\n",
       "      <th>child_nodes_left</th>\n",
       "      <th>child_nodes_right</th>\n",
       "    </tr>\n",
       "  </thead>\n",
       "  <tbody>\n",
       "    <tr>\n",
       "      <th>0</th>\n",
       "      <td>age</td>\n",
       "      <td>3</td>\n",
       "      <td>4</td>\n",
       "      <td>-1</td>\n",
       "      <td>True</td>\n",
       "      <td>10.657875</td>\n",
       "      <td>-3.318347</td>\n",
       "      <td>[9.0]</td>\n",
       "      <td>[10.0]</td>\n",
       "    </tr>\n",
       "    <tr>\n",
       "      <th>1</th>\n",
       "      <td>age</td>\n",
       "      <td>5</td>\n",
       "      <td>1</td>\n",
       "      <td>-1</td>\n",
       "      <td>True</td>\n",
       "      <td>2.655762</td>\n",
       "      <td>-12.411342</td>\n",
       "      <td>[3.0, 7.0, 8.0]</td>\n",
       "      <td>[4.0, 9.0, 10.0]</td>\n",
       "    </tr>\n",
       "    <tr>\n",
       "      <th>2</th>\n",
       "      <td>age</td>\n",
       "      <td>5</td>\n",
       "      <td>6</td>\n",
       "      <td>-1</td>\n",
       "      <td>True</td>\n",
       "      <td>27.366072</td>\n",
       "      <td>-4.267937</td>\n",
       "      <td>[13.0]</td>\n",
       "      <td>[14.0]</td>\n",
       "    </tr>\n",
       "    <tr>\n",
       "      <th>3</th>\n",
       "      <td>age</td>\n",
       "      <td>6</td>\n",
       "      <td>3</td>\n",
       "      <td>-1</td>\n",
       "      <td>True</td>\n",
       "      <td>11.539597</td>\n",
       "      <td>2.654022</td>\n",
       "      <td>[7.0]</td>\n",
       "      <td>[8.0]</td>\n",
       "    </tr>\n",
       "    <tr>\n",
       "      <th>4</th>\n",
       "      <td>age</td>\n",
       "      <td>7</td>\n",
       "      <td>5</td>\n",
       "      <td>-1</td>\n",
       "      <td>True</td>\n",
       "      <td>10.237080</td>\n",
       "      <td>-4.882254</td>\n",
       "      <td>[9.0]</td>\n",
       "      <td>[10.0]</td>\n",
       "    </tr>\n",
       "  </tbody>\n",
       "</table>\n",
       "</div>"
      ],
      "text/plain": [
       "  variable  tree  node  monotonic_trend  monotonic  \\\n",
       "0      age     3     4               -1       True   \n",
       "1      age     5     1               -1       True   \n",
       "2      age     5     6               -1       True   \n",
       "3      age     6     3               -1       True   \n",
       "4      age     7     5               -1       True   \n",
       "\n",
       "   child_nodes_left_max_prediction  child_nodes_right_min_prediction  \\\n",
       "0                        10.657875                         -3.318347   \n",
       "1                         2.655762                        -12.411342   \n",
       "2                        27.366072                         -4.267937   \n",
       "3                        11.539597                          2.654022   \n",
       "4                        10.237080                         -4.882254   \n",
       "\n",
       "  child_nodes_left child_nodes_right  \n",
       "0            [9.0]            [10.0]  \n",
       "1  [3.0, 7.0, 8.0]  [4.0, 9.0, 10.0]  \n",
       "2           [13.0]            [14.0]  \n",
       "3            [7.0]             [8.0]  \n",
       "4            [9.0]            [10.0]  "
      ]
     },
     "execution_count": 11,
     "metadata": {},
     "output_type": "execute_result"
    }
   ],
   "source": [
    "monotonic_constraint_check.results.head()"
   ]
  }
 ],
 "metadata": {
  "kernelspec": {
   "display_name": "tabular-trees-OoQw9ODw-py3.11",
   "language": "python",
   "name": "python3"
  },
  "language_info": {
   "codemirror_mode": {
    "name": "ipython",
    "version": 3
   },
   "file_extension": ".py",
   "mimetype": "text/x-python",
   "name": "python",
   "nbconvert_exporter": "python",
   "pygments_lexer": "ipython3",
   "version": "3.11.1"
  },
  "toc": {
   "base_numbering": 1,
   "nav_menu": {},
   "number_sections": true,
   "sideBar": true,
   "skip_h1_title": false,
   "title_cell": "Table of Contents",
   "title_sidebar": "Contents",
   "toc_cell": true,
   "toc_position": {},
   "toc_section_display": true,
   "toc_window_display": true
  },
  "vscode": {
   "interpreter": {
    "hash": "e3fd10aa66eb14c4e6d15890200911028fd95d51d57e54d8538de32c76fa5f6b"
   }
  }
 },
 "nbformat": 4,
 "nbformat_minor": 2
}
